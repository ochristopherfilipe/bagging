{
  "nbformat": 4,
  "nbformat_minor": 0,
  "metadata": {
    "colab": {
      "provenance": []
    },
    "kernelspec": {
      "name": "python3",
      "display_name": "Python 3"
    },
    "language_info": {
      "name": "python"
    }
  },
  "cells": [
    {
      "cell_type": "markdown",
      "source": [
        "Aqui está um exemplo de como funciona um Baggin (Bootstrap Aggregating)"
      ],
      "metadata": {
        "id": "k9EkzyO61LPQ"
      }
    },
    {
      "cell_type": "code",
      "execution_count": 18,
      "metadata": {
        "colab": {
          "base_uri": "https://localhost:8080/"
        },
        "id": "zyZ83e4VuRo7",
        "outputId": "fc2e50ad-b192-4cea-e424-aa69f97f4fb8"
      },
      "outputs": [
        {
          "output_type": "stream",
          "name": "stdout",
          "text": [
            "Acurácia do modelo Bagging com Random Forest: 1.0\n",
            "Acurácia do modelo Bagging com K-Nearest Neighbors: 0.8208955223880597\n",
            "Acurácia do modelo Bagging com Gradient Boosting: 1.0\n"
          ]
        }
      ],
      "source": [
        "# Importando bibliotecas necessárias\n",
        "import seaborn as sns\n",
        "import matplotlib.pyplot as plt\n",
        "import numpy as np\n",
        "\n",
        "from sklearn.model_selection import train_test_split\n",
        "from sklearn.ensemble import RandomForestClassifier\n",
        "from sklearn.neighbors import KNeighborsClassifier\n",
        "from sklearn.ensemble import GradientBoostingClassifier\n",
        "from sklearn.metrics import accuracy_score\n",
        "\n",
        "# Carregando os dados de pinguins do Seaborn\n",
        "penguins = sns.load_dataset(\"penguins\")\n",
        "\n",
        "# Removendo linhas com valores ausentes\n",
        "penguins.dropna(inplace=True)\n",
        "\n",
        "# Selecionando características (X) e rótulos (y)\n",
        "X = penguins[['bill_length_mm', 'bill_depth_mm', 'flipper_length_mm', 'body_mass_g']]\n",
        "y = penguins['species']\n",
        "\n",
        "# Divisão dos dados em conjuntos de treinamento e teste\n",
        "X_train, X_test, y_train, y_test = train_test_split(X, y, test_size=0.2, random_state=42)\n",
        "\n",
        "# Definindo três modelos base diferentes\n",
        "model1 = RandomForestClassifier(random_state=42)  # Random Forest\n",
        "model2 = KNeighborsClassifier()  # K-Nearest Neighbors\n",
        "model3 = GradientBoostingClassifier(random_state=42)  # Gradient Boosting\n",
        "\n",
        "# Treinando os modelos base\n",
        "model1.fit(X_train, y_train)\n",
        "model2.fit(X_train, y_train)\n",
        "model3.fit(X_train, y_train)\n",
        "\n",
        "# Fazendo previsões com os modelos base\n",
        "y_pred1 = model1.predict(X_test)\n",
        "y_pred2 = model2.predict(X_test)\n",
        "y_pred3 = model3.predict(X_test)\n",
        "\n",
        "# Avaliando o desempenho dos modelos base\n",
        "accuracy1 = accuracy_score(y_test, y_pred1)\n",
        "accuracy2 = accuracy_score(y_test, y_pred2)\n",
        "accuracy3 = accuracy_score(y_test, y_pred3)\n",
        "\n",
        "# Imprimindo a acurácia de cada modelo base\n",
        "print(f'Acurácia do modelo Bagging com Random Forest: {accuracy1}')\n",
        "print(f'Acurácia do modelo Bagging com K-Nearest Neighbors: {accuracy2}')\n",
        "print(f'Acurácia do modelo Bagging com Gradient Boosting: {accuracy3}')\n"
      ]
    },
    {
      "cell_type": "markdown",
      "source": [
        "Média dos resultados"
      ],
      "metadata": {
        "id": "cQNfv0TXz5aA"
      }
    },
    {
      "cell_type": "code",
      "source": [
        "# Calculando e imprimindo a acurácia média dos modelos\n",
        "acuracia_media = (accuracy1 + accuracy2 + accuracy3) / 3\n",
        "print(f'Acurácia média dos modelos: {acuracia_media}')"
      ],
      "metadata": {
        "colab": {
          "base_uri": "https://localhost:8080/"
        },
        "id": "0aw5fVaMyIqK",
        "outputId": "c43b5a95-6b5f-4f3e-cdc1-b2b4f1d6fde5"
      },
      "execution_count": 19,
      "outputs": [
        {
          "output_type": "stream",
          "name": "stdout",
          "text": [
            "Acurácia média dos modelos: 0.9402985074626865\n"
          ]
        }
      ]
    },
    {
      "cell_type": "markdown",
      "source": [
        "Plotando um gráfico básico para melhor visualização dos valores"
      ],
      "metadata": {
        "id": "W4TrJv5DzsmA"
      }
    },
    {
      "cell_type": "code",
      "source": [
        "# Lista de acurácias dos modelos individuais e da acurácia média\n",
        "accuracies = [accuracy1, accuracy2, accuracy3, acuracia_media]\n",
        "models = ['Random Forest', 'K-Nearest Neighbors', 'Gradient Boosting', 'Acurácia Média']\n",
        "\n",
        "# Criando um gráfico de barras simples\n",
        "plt.figure(figsize=(12, 3))\n",
        "plt.barh(models, accuracies, color='skyblue')\n",
        "plt.xlabel('Acurácia')\n",
        "plt.title('Acurácia dos Modelos')\n",
        "\n",
        "# Adicionando os valores de acurácia nas barras\n",
        "for i, acc in enumerate(accuracies):\n",
        "    plt.text(acc + 0.01, i, f'{acc:.2f}', va='center', fontsize=12)\n",
        "\n",
        "plt.tight_layout()\n",
        "\n",
        "# Exibindo o gráfico\n",
        "plt.show()\n"
      ],
      "metadata": {
        "colab": {
          "base_uri": "https://localhost:8080/",
          "height": 300
        },
        "id": "qLwA4ayUzOX9",
        "outputId": "a9ae5c7d-ac10-4e32-bb10-67cfa15187a5"
      },
      "execution_count": 20,
      "outputs": [
        {
          "output_type": "display_data",
          "data": {
            "text/plain": [
              "<Figure size 1200x300 with 1 Axes>"
            ],
            "image/png": "[encoded data removed]"
          },
          "metadata": {}
        }
      ]
    }
  ]
}